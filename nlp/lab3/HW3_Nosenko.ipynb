{
  "cells": [
    {
      "cell_type": "code",
      "execution_count": null,
      "metadata": {
        "id": "w6yUCw36l_lH",
        "outputId": "45a92253-b5e0-47b5-b1b6-e7ba62a7a581"
      },
      "outputs": [
        {
          "data": {
            "text/plain": [
              "4"
            ]
          },
          "execution_count": 239,
          "metadata": {},
          "output_type": "execute_result"
        }
      ],
      "source": [
        "def levenstein(input_a, input_b):\n",
        "\n",
        "    if len(input_a) == 0:\n",
        "        answer = len(input_b)\n",
        "    elif len(input_b) == 0:\n",
        "        answer = len(input_a)\n",
        "    elif input_a[0] == input_b[0]:\n",
        "        answer = levenstein(input_a[1:], input_b[1:])\n",
        "    else:\n",
        "        answer = 1 + min(levenstein(input_a[1:], input_b), levenstein(input_a[1:], input_b[1:]), levenstein(input_a, input_b[1:]))\n",
        "\n",
        "    return answer\n",
        "\n",
        "levenstein('open', 'close')"
      ]
    },
    {
      "cell_type": "code",
      "execution_count": null,
      "metadata": {
        "id": "Yg8b48dWl_lJ"
      },
      "outputs": [],
      "source": [
        "f = open('keys.txt', 'r')\n",
        "raw = f.read()\n",
        "distance_lst = raw.split(sep='\\n')\n",
        "distance_dict = {((distance_lst[i][0]).lower(), (distance_lst[i][2]).lower()):distance_lst[i][4:] for i in range(len(distance_lst))}"
      ]
    },
    {
      "cell_type": "code",
      "execution_count": null,
      "metadata": {
        "id": "V33avte7l_lK"
      },
      "outputs": [],
      "source": [
        "def letter_distance(i,j):\n",
        "    return distance_dict[(i,j)]"
      ]
    },
    {
      "cell_type": "code",
      "execution_count": null,
      "metadata": {
        "id": "Mopokftzl_lK",
        "outputId": "2c5b701c-adae-4996-e46d-ebb84d774417"
      },
      "outputs": [
        {
          "data": {
            "text/plain": [
              "59.29"
            ]
          },
          "execution_count": 242,
          "metadata": {},
          "output_type": "execute_result"
        }
      ],
      "source": [
        "def levenstein_plus(input_a, input_b):\n",
        "\n",
        "    if len(input_a) == 0:\n",
        "        answer = len(input_b)\n",
        "    elif len(input_b) == 0:\n",
        "        answer = len(input_a)\n",
        "    elif input_a[0] == input_b[0]:\n",
        "        answer = levenstein(input_a[1:], input_b[1:])\n",
        "    else:\n",
        "        answer = float(letter_distance(input_a[0], input_b[0])) + min(levenstein(input_a[1:], input_b),\n",
        "                                                                      levenstein(input_a[1:], input_b[1:]),\n",
        "                                                                      levenstein(input_a, input_b[1:])\n",
        "                                                                      )\n",
        "\n",
        "    return answer\n",
        "\n",
        "levenstein_plus('gradient', 'monstrous')"
      ]
    },
    {
      "cell_type": "code",
      "execution_count": null,
      "metadata": {
        "id": "w8S7BEgml_lL",
        "outputId": "a2516c2d-8531-4df6-a9ce-0818d7818d1a"
      },
      "outputs": [
        {
          "data": {
            "text/plain": [
              "3"
            ]
          },
          "execution_count": 243,
          "metadata": {},
          "output_type": "execute_result"
        }
      ],
      "source": [
        "def damerau_levenstein(input_a, input_b):\n",
        "\n",
        "    if len(input_a) == 0:\n",
        "        answer = len(input_b)\n",
        "    elif len(input_b) == 0:\n",
        "        answer = len(input_a)\n",
        "    elif input_a[0] == input_b[0]:\n",
        "        answer = damerau_levenstein(input_a[1:], input_b[1:])\n",
        "    else:\n",
        "        answer = 1 + min(damerau_levenstein(input_a[1:], input_b),\n",
        "                         damerau_levenstein(input_a[1:], input_b[1:]),\n",
        "                         damerau_levenstein(input_a, input_b[1:]),\n",
        "                         damerau_levenstein(input_a[2:], input_b[2:])\n",
        "                         )\n",
        "\n",
        "    return answer\n",
        "\n",
        "damerau_levenstein('open', 'close')"
      ]
    },
    {
      "cell_type": "code",
      "execution_count": null,
      "metadata": {
        "id": "D3KBhx6dl_lL"
      },
      "outputs": [],
      "source": [
        "import nltk\n",
        "from nltk import FreqDist\n",
        "import numpy as np\n",
        "from nltk.corpus import stopwords\n"
      ]
    },
    {
      "cell_type": "code",
      "execution_count": null,
      "metadata": {
        "id": "oYQcq09Tl_lL"
      },
      "outputs": [],
      "source": [
        "from nltk.book import *"
      ]
    },
    {
      "cell_type": "code",
      "execution_count": null,
      "metadata": {
        "id": "yOPnYX2Xl_lM"
      },
      "outputs": [],
      "source": [
        "text_1 = \" \".join(text1)\n",
        "text_2 = \" \".join(text2)\n",
        "text_3 = \" \".join(text3)\n",
        "text_4 = \" \".join(text4)\n",
        "text_5 = \" \".join(text5)\n",
        "text_6 = \" \".join(text6)\n",
        "text_7 = \" \".join(text7)\n",
        "text_8 = \" \".join(text8)\n",
        "text_9 = \" \".join(text9)\n",
        "\n",
        "text = text_1 + text_2 + text_3 + text_4 + text_5 + text_6 + text_7 + text_8 + text_9"
      ]
    },
    {
      "cell_type": "code",
      "execution_count": null,
      "metadata": {
        "id": "oVnurUbBl_lM"
      },
      "outputs": [],
      "source": [
        "from nltk.stem.wordnet import WordNetLemmatizer\n",
        "\n",
        "\n",
        "def lemmatize(text):\n",
        "    lemmatizer = WordNetLemmatizer()\n",
        "    lemmatized_sentence = [lemmatizer.lemmatize(i) for i in text]\n",
        "    return lemmatized_sentence\n",
        "\n",
        "text = lemmatize(nltk.word_tokenize(text))"
      ]
    },
    {
      "cell_type": "code",
      "execution_count": null,
      "metadata": {
        "id": "WTtr00Inl_lN"
      },
      "outputs": [],
      "source": [
        "import string\n",
        "\n",
        "def process_tokens(tokens):\n",
        "\n",
        "    cleaned_tokens = []\n",
        "    stop_words = stopwords.words('english')\n",
        "\n",
        "    for token in tokens:\n",
        "        if token not in string.punctuation and token.lower() not in stop_words and token[0] != \"'\" and token.isalpha() == True:\n",
        "            cleaned_tokens.append(token.lower())\n",
        "    return cleaned_tokens"
      ]
    },
    {
      "cell_type": "code",
      "execution_count": null,
      "metadata": {
        "id": "Oo9cz7nPl_lN"
      },
      "outputs": [],
      "source": [
        "text = process_tokens(text)"
      ]
    },
    {
      "cell_type": "code",
      "execution_count": null,
      "metadata": {
        "id": "yRl2PlTll_lN"
      },
      "outputs": [],
      "source": [
        "def bag_of_words(text):\n",
        "    if type(text) == nltk.text.Text or type(text) == list:\n",
        "        fd = FreqDist(text)\n",
        "    elif type(text) == str:\n",
        "        words = nltk.word_tokenize(text)\n",
        "        fd = FreqDist(words)\n",
        "    unique = fd.keys()\n",
        "    u_dict = {i: [fd[i] if e == i else 0 for e in unique] for i in unique}\n",
        "\n",
        "    return u_dict\n"
      ]
    },
    {
      "cell_type": "code",
      "execution_count": null,
      "metadata": {
        "id": "gftFdRMfl_lN"
      },
      "outputs": [],
      "source": [
        "# Система векторів усіх слів у тексті\n",
        "base_vectors = bag_of_words(text)"
      ]
    },
    {
      "cell_type": "code",
      "execution_count": null,
      "metadata": {
        "id": "kuTlgrv0l_lO",
        "outputId": "33acce5b-3a08-4059-cee6-892839254deb"
      },
      "outputs": [
        {
          "name": "stdout",
          "output_type": "stream",
          "text": [
            "Розмірність вектора: 26657\n"
          ]
        }
      ],
      "source": [
        "print(\"Розмірність вектора:\", len(bag_of_words(text)['thursday']))"
      ]
    },
    {
      "cell_type": "code",
      "execution_count": null,
      "metadata": {
        "id": "_pXuu_f2l_lO"
      },
      "outputs": [],
      "source": [
        "def construct_sent_vector(sent):\n",
        "    words = process_tokens(lemmatize(nltk.word_tokenize(sent)))\n",
        "    unique = FreqDist(words).keys()\n",
        "    auxilliary_matrix = [np.array(base_vectors[key]) for key in unique]\n",
        "    sent_vector = sum(auxilliary_matrix)\n",
        "    return sent_vector\n"
      ]
    },
    {
      "cell_type": "code",
      "execution_count": null,
      "metadata": {
        "id": "GAv7bEWnl_lP",
        "outputId": "a1502a17-0c9d-456b-9517-aba290a249f4"
      },
      "outputs": [
        {
          "data": {
            "text/plain": [
              "array([0, 0, 0, ..., 0, 0, 0])"
            ]
          },
          "execution_count": 257,
          "metadata": {},
          "output_type": "execute_result"
        }
      ],
      "source": [
        "construct_sent_vector(text_3)"
      ]
    },
    {
      "cell_type": "code",
      "execution_count": null,
      "metadata": {
        "id": "QVqjd6tpl_lP"
      },
      "outputs": [],
      "source": [
        "def sent_dist(sent1, sent2):\n",
        "    return np.dot(sent1, sent2)"
      ]
    },
    {
      "cell_type": "code",
      "execution_count": null,
      "metadata": {
        "id": "A7sm5hxBl_lP",
        "outputId": "a14ee9f8-d169-4a89-8f91-2a4c840cdc79"
      },
      "outputs": [
        {
          "data": {
            "text/plain": [
              "111665021"
            ]
          },
          "execution_count": 263,
          "metadata": {},
          "output_type": "execute_result"
        }
      ],
      "source": [
        "txt1 = text_1\n",
        "txt2 = text_2\n",
        "sent_dist(construct_sent_vector(txt1), construct_sent_vector(txt2))"
      ]
    }
  ],
  "metadata": {
    "kernelspec": {
      "display_name": "Python 3",
      "language": "python",
      "name": "python3"
    },
    "language_info": {
      "codemirror_mode": {
        "name": "ipython",
        "version": 3
      },
      "file_extension": ".py",
      "mimetype": "text/x-python",
      "name": "python",
      "nbconvert_exporter": "python",
      "pygments_lexer": "ipython3",
      "version": "3.11.8"
    },
    "colab": {
      "provenance": []
    }
  },
  "nbformat": 4,
  "nbformat_minor": 0
}